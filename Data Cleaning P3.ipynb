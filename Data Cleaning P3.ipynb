{
 "cells": [
  {
   "cell_type": "code",
   "execution_count": 161,
   "metadata": {},
   "outputs": [],
   "source": [
    "import pandas as pd\n",
    "import numpy as np\n",
    "import nltk\n",
    "from nltk.tokenize import RegexpTokenizer\n",
    "from sklearn.feature_extraction.text import CountVectorizer, TfidfVectorizer\n",
    "from sklearn.pipeline import Pipeline\n",
    "from sklearn.model_selection import train_test_split, GridSearchCV, cross_val_score\n",
    "from sklearn.linear_model import LogisticRegression\n",
    "import re"
   ]
  },
  {
   "cell_type": "code",
   "execution_count": 157,
   "metadata": {},
   "outputs": [
    {
     "name": "stdout",
     "output_type": "stream",
     "text": [
      "Requirement already satisfied: regex in /Users/christopherthompson/anaconda3/lib/python3.6/site-packages (2019.6.8)\r\n"
     ]
    }
   ],
   "source": [
    "!pip install regex"
   ]
  },
  {
   "cell_type": "code",
   "execution_count": 101,
   "metadata": {},
   "outputs": [],
   "source": [
    "Clipper_df = pd.read_csv('ClipperJuly9.csv')"
   ]
  },
  {
   "cell_type": "code",
   "execution_count": 102,
   "metadata": {},
   "outputs": [],
   "source": [
    "Laker_df = pd.read_csv('LakerJuly9.csv')"
   ]
  },
  {
   "cell_type": "markdown",
   "metadata": {},
   "source": [
    "## Check shape of df"
   ]
  },
  {
   "cell_type": "code",
   "execution_count": 103,
   "metadata": {},
   "outputs": [
    {
     "data": {
      "text/plain": [
       "(2464, 104)"
      ]
     },
     "execution_count": 103,
     "metadata": {},
     "output_type": "execute_result"
    }
   ],
   "source": [
    "Clipper_df.shape"
   ]
  },
  {
   "cell_type": "code",
   "execution_count": 104,
   "metadata": {},
   "outputs": [
    {
     "data": {
      "text/plain": [
       "(2501, 102)"
      ]
     },
     "execution_count": 104,
     "metadata": {},
     "output_type": "execute_result"
    }
   ],
   "source": [
    "Laker_df.shape"
   ]
  },
  {
   "cell_type": "code",
   "execution_count": 105,
   "metadata": {},
   "outputs": [],
   "source": [
    "unique = Clipper_df.drop_duplicates(subset='selftext')"
   ]
  },
  {
   "cell_type": "code",
   "execution_count": 106,
   "metadata": {},
   "outputs": [
    {
     "data": {
      "text/plain": [
       "441"
      ]
     },
     "execution_count": 106,
     "metadata": {},
     "output_type": "execute_result"
    }
   ],
   "source": [
    "len(unique)"
   ]
  },
  {
   "cell_type": "markdown",
   "metadata": {},
   "source": [
    "## Drop duplicate columns"
   ]
  },
  {
   "cell_type": "code",
   "execution_count": 107,
   "metadata": {},
   "outputs": [],
   "source": [
    "Clipper_df.drop_duplicates(keep='first', inplace=True)"
   ]
  },
  {
   "cell_type": "code",
   "execution_count": 108,
   "metadata": {},
   "outputs": [
    {
     "data": {
      "text/plain": [
       "(2279, 104)"
      ]
     },
     "execution_count": 108,
     "metadata": {},
     "output_type": "execute_result"
    }
   ],
   "source": [
    "Clipper_df.shape"
   ]
  },
  {
   "cell_type": "code",
   "execution_count": 109,
   "metadata": {},
   "outputs": [],
   "source": [
    "unique2 = Laker_df.drop_duplicates(subset='selftext')"
   ]
  },
  {
   "cell_type": "code",
   "execution_count": 110,
   "metadata": {},
   "outputs": [
    {
     "data": {
      "text/plain": [
       "269"
      ]
     },
     "execution_count": 110,
     "metadata": {},
     "output_type": "execute_result"
    }
   ],
   "source": [
    "len(unique2)"
   ]
  },
  {
   "cell_type": "code",
   "execution_count": 111,
   "metadata": {},
   "outputs": [],
   "source": [
    "Laker_df.drop_duplicates(keep='first',inplace=True)"
   ]
  },
  {
   "cell_type": "code",
   "execution_count": 112,
   "metadata": {},
   "outputs": [
    {
     "data": {
      "text/plain": [
       "(2030, 102)"
      ]
     },
     "execution_count": 112,
     "metadata": {},
     "output_type": "execute_result"
    }
   ],
   "source": [
    "Laker_df.shape"
   ]
  },
  {
   "cell_type": "code",
   "execution_count": 113,
   "metadata": {},
   "outputs": [
    {
     "data": {
      "text/plain": [
       "Index(['all_awardings', 'allow_live_comments', 'approved_at_utc',\n",
       "       'approved_by', 'archived', 'author', 'author_cakeday',\n",
       "       'author_flair_background_color', 'author_flair_css_class',\n",
       "       'author_flair_richtext',\n",
       "       ...\n",
       "       'thumbnail_width', 'title', 'total_awards_received', 'ups', 'url',\n",
       "       'user_reports', 'view_count', 'visited', 'whitelist_status', 'wls'],\n",
       "      dtype='object', length=104)"
      ]
     },
     "execution_count": 113,
     "metadata": {},
     "output_type": "execute_result"
    }
   ],
   "source": [
    "Clipper_df.columns"
   ]
  },
  {
   "cell_type": "markdown",
   "metadata": {},
   "source": [
    "## Checking & dropping null/not useful cols"
   ]
  },
  {
   "cell_type": "code",
   "execution_count": 114,
   "metadata": {},
   "outputs": [
    {
     "data": {
      "text/plain": [
       "all_awardings                       0\n",
       "allow_live_comments                 0\n",
       "approved_at_utc                  2279\n",
       "approved_by                      2279\n",
       "archived                            0\n",
       "author                              0\n",
       "author_cakeday                   2271\n",
       "author_flair_background_color    2279\n",
       "author_flair_css_class           1036\n",
       "author_flair_richtext               0\n",
       "author_flair_template_id         1231\n",
       "author_flair_text                1036\n",
       "author_flair_text_color          1036\n",
       "author_flair_type                   0\n",
       "author_fullname                     0\n",
       "author_patreon_flair                0\n",
       "banned_at_utc                    2279\n",
       "banned_by                        2279\n",
       "can_gild                            0\n",
       "can_mod_post                        0\n",
       "category                         2279\n",
       "clicked                             0\n",
       "content_categories               2279\n",
       "contest_mode                        0\n",
       "created                             0\n",
       "created_utc                         0\n",
       "crosspost_parent                 2237\n",
       "crosspost_parent_list            2237\n",
       "discussion_type                  2279\n",
       "distinguished                    2273\n",
       "                                 ... \n",
       "quarantine                          0\n",
       "removal_reason                   2279\n",
       "report_reasons                   2279\n",
       "saved                               0\n",
       "score                               0\n",
       "secure_media                     2062\n",
       "secure_media_embed                  0\n",
       "selftext                         1238\n",
       "selftext_html                    1238\n",
       "send_replies                        0\n",
       "spoiler                             0\n",
       "stickied                            0\n",
       "subreddit                           0\n",
       "subreddit_id                        0\n",
       "subreddit_name_prefixed             0\n",
       "subreddit_subscribers               0\n",
       "subreddit_type                      0\n",
       "suggested_sort                   2279\n",
       "thumbnail                           0\n",
       "thumbnail_height                 1186\n",
       "thumbnail_width                  1186\n",
       "title                               0\n",
       "total_awards_received               0\n",
       "ups                                 0\n",
       "url                                 0\n",
       "user_reports                        0\n",
       "view_count                       2279\n",
       "visited                             0\n",
       "whitelist_status                    0\n",
       "wls                                 0\n",
       "Length: 104, dtype: int64"
      ]
     },
     "execution_count": 114,
     "metadata": {},
     "output_type": "execute_result"
    }
   ],
   "source": [
    "Clipper_df.isnull().sum()"
   ]
  },
  {
   "cell_type": "code",
   "execution_count": 115,
   "metadata": {},
   "outputs": [],
   "source": [
    "Clipper_df.drop(columns = ['approved_at_utc','ups','wls','whitelist_status','thumbnail_height','thumbnail_width','spoiler',\n",
    "               'report_reasons','removal_reason', 'secure_media','discussion_type','suggested_sort','crosspost_parent',\n",
    "               'banned_by','category','author_cakeday','author_flair_background_color', 'all_awardings', 'allow_live_comments',\n",
    "                          'approved_by','author_flair_css_class', 'author_flair_richtext','author_flair_template_id','author_flair_text',\n",
    "                          'total_awards_received','user_reports','archived','author_flair_text_color','author_flair_type','author_patreon_flair',\n",
    "                          'banned_at_utc','can_gild','can_mod_post','subreddit_type','subreddit_id','stickied','distinguished',\n",
    "                          'created_utc','crosspost_parent_list','distinguished','created','view_count','visited','thumbnail',\n",
    "                          'selftext_html','gilded','gildings','send_replies','content_categories','author_fullname','secure_media_embed','quarantine',\n",
    "                          'is_crosspostable','hidden','contest_mode','hide_score','saved','post_hint','preview','pwls','is_reddit_media_domain','is_original_content',\n",
    "                          'is_meta','is_robot_indexable','likes','link_flair_background_color','parent_whitelist_status','pinned','num_reports','over_18',\n",
    "                          'is_video','downs','is_self','link_flair_css_class','link_flair_richtext','link_flair_template_id','link_flair_text','link_flair_text_color',\n",
    "                          'media','media_embed','media_metadata','clicked','locked','num_crossposts','media_only','mod_note','mod_reason_by','mod_reports',\n",
    "                          'no_follow','mod_reason_title','edited','link_flair_type','domain','id','name','subreddit_name_prefixed','permalink','url','subreddit_subscribers']\n",
    "               ,inplace=True)"
   ]
  },
  {
   "cell_type": "code",
   "execution_count": 116,
   "metadata": {},
   "outputs": [
    {
     "data": {
      "text/plain": [
       "Index(['author', 'num_comments', 'score', 'selftext', 'subreddit', 'title'], dtype='object')"
      ]
     },
     "execution_count": 116,
     "metadata": {},
     "output_type": "execute_result"
    }
   ],
   "source": [
    "Clipper_df.columns"
   ]
  },
  {
   "cell_type": "code",
   "execution_count": 117,
   "metadata": {},
   "outputs": [
    {
     "data": {
      "text/plain": [
       "Index(['all_awardings', 'allow_live_comments', 'approved_at_utc',\n",
       "       'approved_by', 'archived', 'author', 'author_flair_background_color',\n",
       "       'author_flair_css_class', 'author_flair_richtext',\n",
       "       'author_flair_template_id',\n",
       "       ...\n",
       "       'thumbnail_width', 'title', 'total_awards_received', 'ups', 'url',\n",
       "       'user_reports', 'view_count', 'visited', 'whitelist_status', 'wls'],\n",
       "      dtype='object', length=102)"
      ]
     },
     "execution_count": 117,
     "metadata": {},
     "output_type": "execute_result"
    }
   ],
   "source": [
    "Laker_df.columns"
   ]
  },
  {
   "cell_type": "code",
   "execution_count": 118,
   "metadata": {},
   "outputs": [],
   "source": [
    "Laker_df.drop(columns = ['approved_at_utc','ups','wls','whitelist_status','thumbnail_height','thumbnail_width','spoiler',\n",
    "               'report_reasons','removal_reason', 'secure_media','discussion_type','suggested_sort','crosspost_parent',\n",
    "               'banned_by','category','author_flair_background_color', 'all_awardings', 'allow_live_comments',\n",
    "                          'approved_by','author_flair_css_class', 'author_flair_richtext','author_flair_template_id','author_flair_text',\n",
    "                          'total_awards_received','user_reports','archived','author_flair_text_color','author_flair_type','author_patreon_flair',\n",
    "                          'banned_at_utc','can_gild','can_mod_post','subreddit_type','subreddit_id','stickied','distinguished',\n",
    "                          'created_utc','crosspost_parent_list','distinguished','created','view_count','visited','thumbnail',\n",
    "                          'selftext_html','gilded','gildings','send_replies','content_categories','author_fullname','secure_media_embed','quarantine',\n",
    "                          'is_crosspostable','hidden','contest_mode','hide_score','saved','post_hint','preview','pwls','is_reddit_media_domain','is_original_content',\n",
    "                          'is_meta','is_robot_indexable','likes','link_flair_background_color','parent_whitelist_status','pinned','num_reports','over_18',\n",
    "                          'is_video','downs','is_self','link_flair_css_class','link_flair_richtext','link_flair_text','link_flair_text_color',\n",
    "                          'media','media_embed','media_metadata','clicked','locked','num_crossposts','media_only','mod_note','mod_reason_by','mod_reports',\n",
    "                          'no_follow','mod_reason_title','edited','link_flair_type','domain','id','name','subreddit_name_prefixed','permalink','url','subreddit_subscribers']\n",
    "               ,inplace=True)"
   ]
  },
  {
   "cell_type": "code",
   "execution_count": 119,
   "metadata": {},
   "outputs": [
    {
     "data": {
      "text/plain": [
       "Index(['author', 'num_comments', 'score', 'selftext', 'subreddit', 'title'], dtype='object')"
      ]
     },
     "execution_count": 119,
     "metadata": {},
     "output_type": "execute_result"
    }
   ],
   "source": [
    "Laker_df.columns"
   ]
  },
  {
   "cell_type": "code",
   "execution_count": 120,
   "metadata": {},
   "outputs": [
    {
     "data": {
      "text/html": [
       "<div>\n",
       "<style scoped>\n",
       "    .dataframe tbody tr th:only-of-type {\n",
       "        vertical-align: middle;\n",
       "    }\n",
       "\n",
       "    .dataframe tbody tr th {\n",
       "        vertical-align: top;\n",
       "    }\n",
       "\n",
       "    .dataframe thead th {\n",
       "        text-align: right;\n",
       "    }\n",
       "</style>\n",
       "<table border=\"1\" class=\"dataframe\">\n",
       "  <thead>\n",
       "    <tr style=\"text-align: right;\">\n",
       "      <th></th>\n",
       "      <th>author</th>\n",
       "      <th>num_comments</th>\n",
       "      <th>score</th>\n",
       "      <th>selftext</th>\n",
       "      <th>subreddit</th>\n",
       "      <th>title</th>\n",
       "    </tr>\n",
       "  </thead>\n",
       "  <tbody>\n",
       "    <tr>\n",
       "      <th>0</th>\n",
       "      <td>lolwtferic</td>\n",
       "      <td>1115</td>\n",
       "      <td>2285</td>\n",
       "      <td>UM, HOLY FUCK.</td>\n",
       "      <td>LAClippers</td>\n",
       "      <td>[MEGATHREAD] KAWHI LEONARD AND PAUL GEORGE TO ...</td>\n",
       "    </tr>\n",
       "    <tr>\n",
       "      <th>1</th>\n",
       "      <td>apm_music</td>\n",
       "      <td>90</td>\n",
       "      <td>20</td>\n",
       "      <td>NaN</td>\n",
       "      <td>LAClippers</td>\n",
       "      <td>[GAME THREAD - SUMMER LEAGUE] LA Clippers v. W...</td>\n",
       "    </tr>\n",
       "    <tr>\n",
       "      <th>2</th>\n",
       "      <td>iJoinedCuzFuckChuck</td>\n",
       "      <td>15</td>\n",
       "      <td>112</td>\n",
       "      <td>NaN</td>\n",
       "      <td>LAClippers</td>\n",
       "      <td>Stolen from twitter, had to post it here</td>\n",
       "    </tr>\n",
       "    <tr>\n",
       "      <th>3</th>\n",
       "      <td>parkercola13</td>\n",
       "      <td>35</td>\n",
       "      <td>62</td>\n",
       "      <td>NaN</td>\n",
       "      <td>LAClippers</td>\n",
       "      <td>Transcript from 2003 Donald Sterling depositio...</td>\n",
       "    </tr>\n",
       "    <tr>\n",
       "      <th>4</th>\n",
       "      <td>SHAMG0D</td>\n",
       "      <td>19</td>\n",
       "      <td>288</td>\n",
       "      <td>NaN</td>\n",
       "      <td>LAClippers</td>\n",
       "      <td>STRAP UP, WE HOME</td>\n",
       "    </tr>\n",
       "  </tbody>\n",
       "</table>\n",
       "</div>"
      ],
      "text/plain": [
       "                author  num_comments  score        selftext   subreddit  \\\n",
       "0           lolwtferic          1115   2285  UM, HOLY FUCK.  LAClippers   \n",
       "1            apm_music            90     20             NaN  LAClippers   \n",
       "2  iJoinedCuzFuckChuck            15    112             NaN  LAClippers   \n",
       "3         parkercola13            35     62             NaN  LAClippers   \n",
       "4              SHAMG0D            19    288             NaN  LAClippers   \n",
       "\n",
       "                                               title  \n",
       "0  [MEGATHREAD] KAWHI LEONARD AND PAUL GEORGE TO ...  \n",
       "1  [GAME THREAD - SUMMER LEAGUE] LA Clippers v. W...  \n",
       "2           Stolen from twitter, had to post it here  \n",
       "3  Transcript from 2003 Donald Sterling depositio...  \n",
       "4                                  STRAP UP, WE HOME  "
      ]
     },
     "execution_count": 120,
     "metadata": {},
     "output_type": "execute_result"
    }
   ],
   "source": [
    "Clipper_df.head()"
   ]
  },
  {
   "cell_type": "markdown",
   "metadata": {},
   "source": [
    "### null however we will keep"
   ]
  },
  {
   "cell_type": "code",
   "execution_count": 121,
   "metadata": {},
   "outputs": [
    {
     "data": {
      "text/plain": [
       "author             0\n",
       "num_comments       0\n",
       "score              0\n",
       "selftext        1238\n",
       "subreddit          0\n",
       "title              0\n",
       "dtype: int64"
      ]
     },
     "execution_count": 121,
     "metadata": {},
     "output_type": "execute_result"
    }
   ],
   "source": [
    "Clipper_df.isnull().sum()"
   ]
  },
  {
   "cell_type": "markdown",
   "metadata": {},
   "source": [
    "## Fill null values with empty string"
   ]
  },
  {
   "cell_type": "code",
   "execution_count": 122,
   "metadata": {},
   "outputs": [],
   "source": [
    "Clipper_df.fillna(\" \", inplace=True)"
   ]
  },
  {
   "cell_type": "code",
   "execution_count": 123,
   "metadata": {},
   "outputs": [
    {
     "data": {
      "text/plain": [
       "author          0\n",
       "num_comments    0\n",
       "score           0\n",
       "selftext        0\n",
       "subreddit       0\n",
       "title           0\n",
       "dtype: int64"
      ]
     },
     "execution_count": 123,
     "metadata": {},
     "output_type": "execute_result"
    }
   ],
   "source": [
    "Clipper_df.isnull().sum()"
   ]
  },
  {
   "cell_type": "code",
   "execution_count": 124,
   "metadata": {},
   "outputs": [
    {
     "data": {
      "text/plain": [
       "author             0\n",
       "num_comments       0\n",
       "score              0\n",
       "selftext        1407\n",
       "subreddit          0\n",
       "title              0\n",
       "dtype: int64"
      ]
     },
     "execution_count": 124,
     "metadata": {},
     "output_type": "execute_result"
    }
   ],
   "source": [
    "Laker_df.isnull().sum()"
   ]
  },
  {
   "cell_type": "code",
   "execution_count": 125,
   "metadata": {},
   "outputs": [],
   "source": [
    "Laker_df.fillna(\" \", inplace=True)"
   ]
  },
  {
   "cell_type": "code",
   "execution_count": 126,
   "metadata": {},
   "outputs": [
    {
     "data": {
      "text/plain": [
       "author          0\n",
       "num_comments    0\n",
       "score           0\n",
       "selftext        0\n",
       "subreddit       0\n",
       "title           0\n",
       "dtype: int64"
      ]
     },
     "execution_count": 126,
     "metadata": {},
     "output_type": "execute_result"
    }
   ],
   "source": [
    "Laker_df.isnull().sum()"
   ]
  },
  {
   "cell_type": "markdown",
   "metadata": {},
   "source": [
    "## Concat df's together"
   ]
  },
  {
   "cell_type": "code",
   "execution_count": 127,
   "metadata": {},
   "outputs": [],
   "source": [
    "LA_df = pd.concat([Laker_df, Clipper_df], ignore_index=True)"
   ]
  },
  {
   "cell_type": "code",
   "execution_count": 128,
   "metadata": {},
   "outputs": [
    {
     "data": {
      "text/html": [
       "<div>\n",
       "<style scoped>\n",
       "    .dataframe tbody tr th:only-of-type {\n",
       "        vertical-align: middle;\n",
       "    }\n",
       "\n",
       "    .dataframe tbody tr th {\n",
       "        vertical-align: top;\n",
       "    }\n",
       "\n",
       "    .dataframe thead th {\n",
       "        text-align: right;\n",
       "    }\n",
       "</style>\n",
       "<table border=\"1\" class=\"dataframe\">\n",
       "  <thead>\n",
       "    <tr style=\"text-align: right;\">\n",
       "      <th></th>\n",
       "      <th>author</th>\n",
       "      <th>num_comments</th>\n",
       "      <th>score</th>\n",
       "      <th>selftext</th>\n",
       "      <th>subreddit</th>\n",
       "      <th>title</th>\n",
       "    </tr>\n",
       "  </thead>\n",
       "  <tbody>\n",
       "    <tr>\n",
       "      <th>0</th>\n",
       "      <td>AutoModerator</td>\n",
       "      <td>33</td>\n",
       "      <td>10</td>\n",
       "      <td>Daily discussion about anything Lakers related...</td>\n",
       "      <td>lakers</td>\n",
       "      <td>Daily Lakers Discussion Thread - July 11</td>\n",
       "    </tr>\n",
       "    <tr>\n",
       "      <th>1</th>\n",
       "      <td>rickat99</td>\n",
       "      <td>63</td>\n",
       "      <td>877</td>\n",
       "      <td></td>\n",
       "      <td>lakers</td>\n",
       "      <td>Whatever it takes</td>\n",
       "    </tr>\n",
       "    <tr>\n",
       "      <th>2</th>\n",
       "      <td>djmcc28</td>\n",
       "      <td>42</td>\n",
       "      <td>237</td>\n",
       "      <td></td>\n",
       "      <td>lakers</td>\n",
       "      <td>Two GOATs 🐐🐐</td>\n",
       "    </tr>\n",
       "    <tr>\n",
       "      <th>3</th>\n",
       "      <td>Masicka636</td>\n",
       "      <td>17</td>\n",
       "      <td>154</td>\n",
       "      <td></td>\n",
       "      <td>lakers</td>\n",
       "      <td>Our Boys!</td>\n",
       "    </tr>\n",
       "    <tr>\n",
       "      <th>4</th>\n",
       "      <td>daftmunt</td>\n",
       "      <td>250</td>\n",
       "      <td>2270</td>\n",
       "      <td></td>\n",
       "      <td>lakers</td>\n",
       "      <td>[Moreno] DeMarcus Cousins: \"My quad is 100% he...</td>\n",
       "    </tr>\n",
       "  </tbody>\n",
       "</table>\n",
       "</div>"
      ],
      "text/plain": [
       "          author  num_comments  score  \\\n",
       "0  AutoModerator            33     10   \n",
       "1       rickat99            63    877   \n",
       "2        djmcc28            42    237   \n",
       "3     Masicka636            17    154   \n",
       "4       daftmunt           250   2270   \n",
       "\n",
       "                                            selftext subreddit  \\\n",
       "0  Daily discussion about anything Lakers related...    lakers   \n",
       "1                                                       lakers   \n",
       "2                                                       lakers   \n",
       "3                                                       lakers   \n",
       "4                                                       lakers   \n",
       "\n",
       "                                               title  \n",
       "0           Daily Lakers Discussion Thread - July 11  \n",
       "1                                  Whatever it takes  \n",
       "2                                       Two GOATs 🐐🐐  \n",
       "3                                          Our Boys!  \n",
       "4  [Moreno] DeMarcus Cousins: \"My quad is 100% he...  "
      ]
     },
     "execution_count": 128,
     "metadata": {},
     "output_type": "execute_result"
    }
   ],
   "source": [
    "LA_df.head()"
   ]
  },
  {
   "cell_type": "code",
   "execution_count": 129,
   "metadata": {},
   "outputs": [
    {
     "data": {
      "text/plain": [
       "author          object\n",
       "num_comments     int64\n",
       "score            int64\n",
       "selftext        object\n",
       "subreddit       object\n",
       "title           object\n",
       "dtype: object"
      ]
     },
     "execution_count": 129,
     "metadata": {},
     "output_type": "execute_result"
    }
   ],
   "source": [
    "Laker_df.dtypes"
   ]
  },
  {
   "cell_type": "markdown",
   "metadata": {},
   "source": [
    "## Interacte columns"
   ]
  },
  {
   "cell_type": "code",
   "execution_count": 176,
   "metadata": {},
   "outputs": [],
   "source": [
    "LA_df['text'] = LA_df['selftext'] + ' ' + LA_df['title']"
   ]
  },
  {
   "cell_type": "code",
   "execution_count": 131,
   "metadata": {},
   "outputs": [
    {
     "data": {
      "text/plain": [
       "(4309, 7)"
      ]
     },
     "execution_count": 131,
     "metadata": {},
     "output_type": "execute_result"
    }
   ],
   "source": [
    "LA_df.shape"
   ]
  },
  {
   "cell_type": "code",
   "execution_count": 132,
   "metadata": {},
   "outputs": [
    {
     "data": {
      "text/html": [
       "<div>\n",
       "<style scoped>\n",
       "    .dataframe tbody tr th:only-of-type {\n",
       "        vertical-align: middle;\n",
       "    }\n",
       "\n",
       "    .dataframe tbody tr th {\n",
       "        vertical-align: top;\n",
       "    }\n",
       "\n",
       "    .dataframe thead th {\n",
       "        text-align: right;\n",
       "    }\n",
       "</style>\n",
       "<table border=\"1\" class=\"dataframe\">\n",
       "  <thead>\n",
       "    <tr style=\"text-align: right;\">\n",
       "      <th></th>\n",
       "      <th>author</th>\n",
       "      <th>num_comments</th>\n",
       "      <th>score</th>\n",
       "      <th>selftext</th>\n",
       "      <th>subreddit</th>\n",
       "      <th>title</th>\n",
       "      <th>selftext_title</th>\n",
       "    </tr>\n",
       "  </thead>\n",
       "  <tbody>\n",
       "    <tr>\n",
       "      <th>0</th>\n",
       "      <td>AutoModerator</td>\n",
       "      <td>33</td>\n",
       "      <td>10</td>\n",
       "      <td>Daily discussion about anything Lakers related...</td>\n",
       "      <td>lakers</td>\n",
       "      <td>Daily Lakers Discussion Thread - July 11</td>\n",
       "      <td>Daily discussion about anything Lakers related...</td>\n",
       "    </tr>\n",
       "    <tr>\n",
       "      <th>1</th>\n",
       "      <td>rickat99</td>\n",
       "      <td>63</td>\n",
       "      <td>877</td>\n",
       "      <td></td>\n",
       "      <td>lakers</td>\n",
       "      <td>Whatever it takes</td>\n",
       "      <td>Whatever it takes</td>\n",
       "    </tr>\n",
       "    <tr>\n",
       "      <th>2</th>\n",
       "      <td>djmcc28</td>\n",
       "      <td>42</td>\n",
       "      <td>237</td>\n",
       "      <td></td>\n",
       "      <td>lakers</td>\n",
       "      <td>Two GOATs 🐐🐐</td>\n",
       "      <td>Two GOATs 🐐🐐</td>\n",
       "    </tr>\n",
       "    <tr>\n",
       "      <th>3</th>\n",
       "      <td>Masicka636</td>\n",
       "      <td>17</td>\n",
       "      <td>154</td>\n",
       "      <td></td>\n",
       "      <td>lakers</td>\n",
       "      <td>Our Boys!</td>\n",
       "      <td>Our Boys!</td>\n",
       "    </tr>\n",
       "    <tr>\n",
       "      <th>4</th>\n",
       "      <td>daftmunt</td>\n",
       "      <td>250</td>\n",
       "      <td>2270</td>\n",
       "      <td></td>\n",
       "      <td>lakers</td>\n",
       "      <td>[Moreno] DeMarcus Cousins: \"My quad is 100% he...</td>\n",
       "      <td>[Moreno] DeMarcus Cousins: \"My quad is 100% ...</td>\n",
       "    </tr>\n",
       "  </tbody>\n",
       "</table>\n",
       "</div>"
      ],
      "text/plain": [
       "          author  num_comments  score  \\\n",
       "0  AutoModerator            33     10   \n",
       "1       rickat99            63    877   \n",
       "2        djmcc28            42    237   \n",
       "3     Masicka636            17    154   \n",
       "4       daftmunt           250   2270   \n",
       "\n",
       "                                            selftext subreddit  \\\n",
       "0  Daily discussion about anything Lakers related...    lakers   \n",
       "1                                                       lakers   \n",
       "2                                                       lakers   \n",
       "3                                                       lakers   \n",
       "4                                                       lakers   \n",
       "\n",
       "                                               title  \\\n",
       "0           Daily Lakers Discussion Thread - July 11   \n",
       "1                                  Whatever it takes   \n",
       "2                                       Two GOATs 🐐🐐   \n",
       "3                                          Our Boys!   \n",
       "4  [Moreno] DeMarcus Cousins: \"My quad is 100% he...   \n",
       "\n",
       "                                      selftext_title  \n",
       "0  Daily discussion about anything Lakers related...  \n",
       "1                                  Whatever it takes  \n",
       "2                                       Two GOATs 🐐🐐  \n",
       "3                                          Our Boys!  \n",
       "4    [Moreno] DeMarcus Cousins: \"My quad is 100% ...  "
      ]
     },
     "execution_count": 132,
     "metadata": {},
     "output_type": "execute_result"
    }
   ],
   "source": [
    "LA_df.head()"
   ]
  },
  {
   "cell_type": "markdown",
   "metadata": {},
   "source": [
    "## Import snowball to \"clean data\""
   ]
  },
  {
   "cell_type": "code",
   "execution_count": 184,
   "metadata": {},
   "outputs": [],
   "source": [
    "from nltk.stem.snowball import SnowballStemmer"
   ]
  },
  {
   "cell_type": "code",
   "execution_count": 185,
   "metadata": {},
   "outputs": [],
   "source": [
    "tokenizer = RegexpTokenizer(r'\\w+')\n",
    "\n",
    "snow = SnowballStemmer(language = 'english')"
   ]
  },
  {
   "cell_type": "code",
   "execution_count": 187,
   "metadata": {},
   "outputs": [],
   "source": [
    "#iterated on Erin's cod \n",
    "def snow_text(text):\n",
    "    return [snow.stem(w.lower()) for w in tokenizer.tokenize(text.replace(\"'\", \"\"))]  #add .replace(\"'\", \"\")\n",
    "\n",
    "\n",
    "LA_df['snow_text'] = LA_df['text'].apply(snow_text)"
   ]
  },
  {
   "cell_type": "markdown",
   "metadata": {},
   "source": [
    "### Sanity check"
   ]
  },
  {
   "cell_type": "code",
   "execution_count": 190,
   "metadata": {},
   "outputs": [
    {
     "data": {
      "text/html": [
       "<div>\n",
       "<style scoped>\n",
       "    .dataframe tbody tr th:only-of-type {\n",
       "        vertical-align: middle;\n",
       "    }\n",
       "\n",
       "    .dataframe tbody tr th {\n",
       "        vertical-align: top;\n",
       "    }\n",
       "\n",
       "    .dataframe thead th {\n",
       "        text-align: right;\n",
       "    }\n",
       "</style>\n",
       "<table border=\"1\" class=\"dataframe\">\n",
       "  <thead>\n",
       "    <tr style=\"text-align: right;\">\n",
       "      <th></th>\n",
       "      <th>author</th>\n",
       "      <th>num_comments</th>\n",
       "      <th>score</th>\n",
       "      <th>selftext</th>\n",
       "      <th>subreddit</th>\n",
       "      <th>title</th>\n",
       "      <th>selftext_title</th>\n",
       "      <th>text</th>\n",
       "      <th>snow_text</th>\n",
       "      <th>texty</th>\n",
       "    </tr>\n",
       "  </thead>\n",
       "  <tbody>\n",
       "    <tr>\n",
       "      <th>0</th>\n",
       "      <td>AutoModerator</td>\n",
       "      <td>33</td>\n",
       "      <td>10</td>\n",
       "      <td>Daily discussion about anything Lakers related...</td>\n",
       "      <td>lakers</td>\n",
       "      <td>Daily Lakers Discussion Thread - July 11</td>\n",
       "      <td>Daily discussion about anything Lakers related...</td>\n",
       "      <td>Daily discussion about anything Lakers related...</td>\n",
       "      <td>[daili, discuss, about, anyth, laker, relat, o...</td>\n",
       "      <td>[daili discuss about anyth laker relat off top...</td>\n",
       "    </tr>\n",
       "    <tr>\n",
       "      <th>1</th>\n",
       "      <td>rickat99</td>\n",
       "      <td>63</td>\n",
       "      <td>877</td>\n",
       "      <td></td>\n",
       "      <td>lakers</td>\n",
       "      <td>Whatever it takes</td>\n",
       "      <td>Whatever it takes</td>\n",
       "      <td>Whatever it takes</td>\n",
       "      <td>[whatev, it, take]</td>\n",
       "      <td>[whatev it take]</td>\n",
       "    </tr>\n",
       "    <tr>\n",
       "      <th>2</th>\n",
       "      <td>djmcc28</td>\n",
       "      <td>42</td>\n",
       "      <td>237</td>\n",
       "      <td></td>\n",
       "      <td>lakers</td>\n",
       "      <td>Two GOATs 🐐🐐</td>\n",
       "      <td>Two GOATs 🐐🐐</td>\n",
       "      <td>Two GOATs 🐐🐐</td>\n",
       "      <td>[two, goat]</td>\n",
       "      <td>[two goat]</td>\n",
       "    </tr>\n",
       "    <tr>\n",
       "      <th>3</th>\n",
       "      <td>Masicka636</td>\n",
       "      <td>17</td>\n",
       "      <td>154</td>\n",
       "      <td></td>\n",
       "      <td>lakers</td>\n",
       "      <td>Our Boys!</td>\n",
       "      <td>Our Boys!</td>\n",
       "      <td>Our Boys!</td>\n",
       "      <td>[our, boy]</td>\n",
       "      <td>[our boy]</td>\n",
       "    </tr>\n",
       "    <tr>\n",
       "      <th>4</th>\n",
       "      <td>daftmunt</td>\n",
       "      <td>250</td>\n",
       "      <td>2270</td>\n",
       "      <td></td>\n",
       "      <td>lakers</td>\n",
       "      <td>[Moreno] DeMarcus Cousins: \"My quad is 100% he...</td>\n",
       "      <td>[Moreno] DeMarcus Cousins: \"My quad is 100% ...</td>\n",
       "      <td>[Moreno] DeMarcus Cousins: \"My quad is 100% ...</td>\n",
       "      <td>[moreno, demarcus, cousin, my, quad, is, 100, ...</td>\n",
       "      <td>[moreno demarcus cousin my quad is 100 heal my...</td>\n",
       "    </tr>\n",
       "  </tbody>\n",
       "</table>\n",
       "</div>"
      ],
      "text/plain": [
       "          author  num_comments  score  \\\n",
       "0  AutoModerator            33     10   \n",
       "1       rickat99            63    877   \n",
       "2        djmcc28            42    237   \n",
       "3     Masicka636            17    154   \n",
       "4       daftmunt           250   2270   \n",
       "\n",
       "                                            selftext subreddit  \\\n",
       "0  Daily discussion about anything Lakers related...    lakers   \n",
       "1                                                       lakers   \n",
       "2                                                       lakers   \n",
       "3                                                       lakers   \n",
       "4                                                       lakers   \n",
       "\n",
       "                                               title  \\\n",
       "0           Daily Lakers Discussion Thread - July 11   \n",
       "1                                  Whatever it takes   \n",
       "2                                       Two GOATs 🐐🐐   \n",
       "3                                          Our Boys!   \n",
       "4  [Moreno] DeMarcus Cousins: \"My quad is 100% he...   \n",
       "\n",
       "                                      selftext_title  \\\n",
       "0  Daily discussion about anything Lakers related...   \n",
       "1                                  Whatever it takes   \n",
       "2                                       Two GOATs 🐐🐐   \n",
       "3                                          Our Boys!   \n",
       "4    [Moreno] DeMarcus Cousins: \"My quad is 100% ...   \n",
       "\n",
       "                                                text  \\\n",
       "0  Daily discussion about anything Lakers related...   \n",
       "1                                  Whatever it takes   \n",
       "2                                       Two GOATs 🐐🐐   \n",
       "3                                          Our Boys!   \n",
       "4    [Moreno] DeMarcus Cousins: \"My quad is 100% ...   \n",
       "\n",
       "                                           snow_text  \\\n",
       "0  [daili, discuss, about, anyth, laker, relat, o...   \n",
       "1                                 [whatev, it, take]   \n",
       "2                                        [two, goat]   \n",
       "3                                         [our, boy]   \n",
       "4  [moreno, demarcus, cousin, my, quad, is, 100, ...   \n",
       "\n",
       "                                               texty  \n",
       "0  [daili discuss about anyth laker relat off top...  \n",
       "1                                   [whatev it take]  \n",
       "2                                         [two goat]  \n",
       "3                                          [our boy]  \n",
       "4  [moreno demarcus cousin my quad is 100 heal my...  "
      ]
     },
     "execution_count": 190,
     "metadata": {},
     "output_type": "execute_result"
    }
   ],
   "source": [
    "LA_df.head()"
   ]
  },
  {
   "cell_type": "markdown",
   "metadata": {},
   "source": [
    "### New column with text join"
   ]
  },
  {
   "cell_type": "code",
   "execution_count": 189,
   "metadata": {},
   "outputs": [],
   "source": [
    "LA_df['texty'] = [[' '.join(i)] for i in LA_df['snow_text']]"
   ]
  },
  {
   "cell_type": "code",
   "execution_count": 191,
   "metadata": {},
   "outputs": [
    {
     "data": {
      "text/html": [
       "<div>\n",
       "<style scoped>\n",
       "    .dataframe tbody tr th:only-of-type {\n",
       "        vertical-align: middle;\n",
       "    }\n",
       "\n",
       "    .dataframe tbody tr th {\n",
       "        vertical-align: top;\n",
       "    }\n",
       "\n",
       "    .dataframe thead th {\n",
       "        text-align: right;\n",
       "    }\n",
       "</style>\n",
       "<table border=\"1\" class=\"dataframe\">\n",
       "  <thead>\n",
       "    <tr style=\"text-align: right;\">\n",
       "      <th></th>\n",
       "      <th>author</th>\n",
       "      <th>num_comments</th>\n",
       "      <th>score</th>\n",
       "      <th>selftext</th>\n",
       "      <th>subreddit</th>\n",
       "      <th>title</th>\n",
       "      <th>selftext_title</th>\n",
       "      <th>text</th>\n",
       "      <th>snow_text</th>\n",
       "      <th>texty</th>\n",
       "    </tr>\n",
       "  </thead>\n",
       "  <tbody>\n",
       "    <tr>\n",
       "      <th>0</th>\n",
       "      <td>AutoModerator</td>\n",
       "      <td>33</td>\n",
       "      <td>10</td>\n",
       "      <td>Daily discussion about anything Lakers related...</td>\n",
       "      <td>lakers</td>\n",
       "      <td>Daily Lakers Discussion Thread - July 11</td>\n",
       "      <td>Daily discussion about anything Lakers related...</td>\n",
       "      <td>Daily discussion about anything Lakers related...</td>\n",
       "      <td>[daili, discuss, about, anyth, laker, relat, o...</td>\n",
       "      <td>[daili discuss about anyth laker relat off top...</td>\n",
       "    </tr>\n",
       "    <tr>\n",
       "      <th>1</th>\n",
       "      <td>rickat99</td>\n",
       "      <td>63</td>\n",
       "      <td>877</td>\n",
       "      <td></td>\n",
       "      <td>lakers</td>\n",
       "      <td>Whatever it takes</td>\n",
       "      <td>Whatever it takes</td>\n",
       "      <td>Whatever it takes</td>\n",
       "      <td>[whatev, it, take]</td>\n",
       "      <td>[whatev it take]</td>\n",
       "    </tr>\n",
       "    <tr>\n",
       "      <th>2</th>\n",
       "      <td>djmcc28</td>\n",
       "      <td>42</td>\n",
       "      <td>237</td>\n",
       "      <td></td>\n",
       "      <td>lakers</td>\n",
       "      <td>Two GOATs 🐐🐐</td>\n",
       "      <td>Two GOATs 🐐🐐</td>\n",
       "      <td>Two GOATs 🐐🐐</td>\n",
       "      <td>[two, goat]</td>\n",
       "      <td>[two goat]</td>\n",
       "    </tr>\n",
       "    <tr>\n",
       "      <th>3</th>\n",
       "      <td>Masicka636</td>\n",
       "      <td>17</td>\n",
       "      <td>154</td>\n",
       "      <td></td>\n",
       "      <td>lakers</td>\n",
       "      <td>Our Boys!</td>\n",
       "      <td>Our Boys!</td>\n",
       "      <td>Our Boys!</td>\n",
       "      <td>[our, boy]</td>\n",
       "      <td>[our boy]</td>\n",
       "    </tr>\n",
       "    <tr>\n",
       "      <th>4</th>\n",
       "      <td>daftmunt</td>\n",
       "      <td>250</td>\n",
       "      <td>2270</td>\n",
       "      <td></td>\n",
       "      <td>lakers</td>\n",
       "      <td>[Moreno] DeMarcus Cousins: \"My quad is 100% he...</td>\n",
       "      <td>[Moreno] DeMarcus Cousins: \"My quad is 100% ...</td>\n",
       "      <td>[Moreno] DeMarcus Cousins: \"My quad is 100% ...</td>\n",
       "      <td>[moreno, demarcus, cousin, my, quad, is, 100, ...</td>\n",
       "      <td>[moreno demarcus cousin my quad is 100 heal my...</td>\n",
       "    </tr>\n",
       "  </tbody>\n",
       "</table>\n",
       "</div>"
      ],
      "text/plain": [
       "          author  num_comments  score  \\\n",
       "0  AutoModerator            33     10   \n",
       "1       rickat99            63    877   \n",
       "2        djmcc28            42    237   \n",
       "3     Masicka636            17    154   \n",
       "4       daftmunt           250   2270   \n",
       "\n",
       "                                            selftext subreddit  \\\n",
       "0  Daily discussion about anything Lakers related...    lakers   \n",
       "1                                                       lakers   \n",
       "2                                                       lakers   \n",
       "3                                                       lakers   \n",
       "4                                                       lakers   \n",
       "\n",
       "                                               title  \\\n",
       "0           Daily Lakers Discussion Thread - July 11   \n",
       "1                                  Whatever it takes   \n",
       "2                                       Two GOATs 🐐🐐   \n",
       "3                                          Our Boys!   \n",
       "4  [Moreno] DeMarcus Cousins: \"My quad is 100% he...   \n",
       "\n",
       "                                      selftext_title  \\\n",
       "0  Daily discussion about anything Lakers related...   \n",
       "1                                  Whatever it takes   \n",
       "2                                       Two GOATs 🐐🐐   \n",
       "3                                          Our Boys!   \n",
       "4    [Moreno] DeMarcus Cousins: \"My quad is 100% ...   \n",
       "\n",
       "                                                text  \\\n",
       "0  Daily discussion about anything Lakers related...   \n",
       "1                                  Whatever it takes   \n",
       "2                                       Two GOATs 🐐🐐   \n",
       "3                                          Our Boys!   \n",
       "4    [Moreno] DeMarcus Cousins: \"My quad is 100% ...   \n",
       "\n",
       "                                           snow_text  \\\n",
       "0  [daili, discuss, about, anyth, laker, relat, o...   \n",
       "1                                 [whatev, it, take]   \n",
       "2                                        [two, goat]   \n",
       "3                                         [our, boy]   \n",
       "4  [moreno, demarcus, cousin, my, quad, is, 100, ...   \n",
       "\n",
       "                                               texty  \n",
       "0  [daili discuss about anyth laker relat off top...  \n",
       "1                                   [whatev it take]  \n",
       "2                                         [two goat]  \n",
       "3                                          [our boy]  \n",
       "4  [moreno demarcus cousin my quad is 100 heal my...  "
      ]
     },
     "execution_count": 191,
     "metadata": {},
     "output_type": "execute_result"
    }
   ],
   "source": [
    "LA_df.head()"
   ]
  },
  {
   "cell_type": "markdown",
   "metadata": {},
   "source": [
    "### New col as a str"
   ]
  },
  {
   "cell_type": "code",
   "execution_count": 193,
   "metadata": {},
   "outputs": [],
   "source": [
    "LA_df['string'] = [str(i) for i in LA_df['texty']]"
   ]
  },
  {
   "cell_type": "code",
   "execution_count": 194,
   "metadata": {},
   "outputs": [
    {
     "data": {
      "text/html": [
       "<div>\n",
       "<style scoped>\n",
       "    .dataframe tbody tr th:only-of-type {\n",
       "        vertical-align: middle;\n",
       "    }\n",
       "\n",
       "    .dataframe tbody tr th {\n",
       "        vertical-align: top;\n",
       "    }\n",
       "\n",
       "    .dataframe thead th {\n",
       "        text-align: right;\n",
       "    }\n",
       "</style>\n",
       "<table border=\"1\" class=\"dataframe\">\n",
       "  <thead>\n",
       "    <tr style=\"text-align: right;\">\n",
       "      <th></th>\n",
       "      <th>author</th>\n",
       "      <th>num_comments</th>\n",
       "      <th>score</th>\n",
       "      <th>selftext</th>\n",
       "      <th>subreddit</th>\n",
       "      <th>title</th>\n",
       "      <th>selftext_title</th>\n",
       "      <th>text</th>\n",
       "      <th>snow_text</th>\n",
       "      <th>texty</th>\n",
       "      <th>string</th>\n",
       "    </tr>\n",
       "  </thead>\n",
       "  <tbody>\n",
       "    <tr>\n",
       "      <th>0</th>\n",
       "      <td>AutoModerator</td>\n",
       "      <td>33</td>\n",
       "      <td>10</td>\n",
       "      <td>Daily discussion about anything Lakers related...</td>\n",
       "      <td>lakers</td>\n",
       "      <td>Daily Lakers Discussion Thread - July 11</td>\n",
       "      <td>Daily discussion about anything Lakers related...</td>\n",
       "      <td>Daily discussion about anything Lakers related...</td>\n",
       "      <td>[daili, discuss, about, anyth, laker, relat, o...</td>\n",
       "      <td>[daili discuss about anyth laker relat off top...</td>\n",
       "      <td>['daili discuss about anyth laker relat off to...</td>\n",
       "    </tr>\n",
       "    <tr>\n",
       "      <th>1</th>\n",
       "      <td>rickat99</td>\n",
       "      <td>63</td>\n",
       "      <td>877</td>\n",
       "      <td></td>\n",
       "      <td>lakers</td>\n",
       "      <td>Whatever it takes</td>\n",
       "      <td>Whatever it takes</td>\n",
       "      <td>Whatever it takes</td>\n",
       "      <td>[whatev, it, take]</td>\n",
       "      <td>[whatev it take]</td>\n",
       "      <td>['whatev it take']</td>\n",
       "    </tr>\n",
       "    <tr>\n",
       "      <th>2</th>\n",
       "      <td>djmcc28</td>\n",
       "      <td>42</td>\n",
       "      <td>237</td>\n",
       "      <td></td>\n",
       "      <td>lakers</td>\n",
       "      <td>Two GOATs 🐐🐐</td>\n",
       "      <td>Two GOATs 🐐🐐</td>\n",
       "      <td>Two GOATs 🐐🐐</td>\n",
       "      <td>[two, goat]</td>\n",
       "      <td>[two goat]</td>\n",
       "      <td>['two goat']</td>\n",
       "    </tr>\n",
       "    <tr>\n",
       "      <th>3</th>\n",
       "      <td>Masicka636</td>\n",
       "      <td>17</td>\n",
       "      <td>154</td>\n",
       "      <td></td>\n",
       "      <td>lakers</td>\n",
       "      <td>Our Boys!</td>\n",
       "      <td>Our Boys!</td>\n",
       "      <td>Our Boys!</td>\n",
       "      <td>[our, boy]</td>\n",
       "      <td>[our boy]</td>\n",
       "      <td>['our boy']</td>\n",
       "    </tr>\n",
       "    <tr>\n",
       "      <th>4</th>\n",
       "      <td>daftmunt</td>\n",
       "      <td>250</td>\n",
       "      <td>2270</td>\n",
       "      <td></td>\n",
       "      <td>lakers</td>\n",
       "      <td>[Moreno] DeMarcus Cousins: \"My quad is 100% he...</td>\n",
       "      <td>[Moreno] DeMarcus Cousins: \"My quad is 100% ...</td>\n",
       "      <td>[Moreno] DeMarcus Cousins: \"My quad is 100% ...</td>\n",
       "      <td>[moreno, demarcus, cousin, my, quad, is, 100, ...</td>\n",
       "      <td>[moreno demarcus cousin my quad is 100 heal my...</td>\n",
       "      <td>['moreno demarcus cousin my quad is 100 heal m...</td>\n",
       "    </tr>\n",
       "  </tbody>\n",
       "</table>\n",
       "</div>"
      ],
      "text/plain": [
       "          author  num_comments  score  \\\n",
       "0  AutoModerator            33     10   \n",
       "1       rickat99            63    877   \n",
       "2        djmcc28            42    237   \n",
       "3     Masicka636            17    154   \n",
       "4       daftmunt           250   2270   \n",
       "\n",
       "                                            selftext subreddit  \\\n",
       "0  Daily discussion about anything Lakers related...    lakers   \n",
       "1                                                       lakers   \n",
       "2                                                       lakers   \n",
       "3                                                       lakers   \n",
       "4                                                       lakers   \n",
       "\n",
       "                                               title  \\\n",
       "0           Daily Lakers Discussion Thread - July 11   \n",
       "1                                  Whatever it takes   \n",
       "2                                       Two GOATs 🐐🐐   \n",
       "3                                          Our Boys!   \n",
       "4  [Moreno] DeMarcus Cousins: \"My quad is 100% he...   \n",
       "\n",
       "                                      selftext_title  \\\n",
       "0  Daily discussion about anything Lakers related...   \n",
       "1                                  Whatever it takes   \n",
       "2                                       Two GOATs 🐐🐐   \n",
       "3                                          Our Boys!   \n",
       "4    [Moreno] DeMarcus Cousins: \"My quad is 100% ...   \n",
       "\n",
       "                                                text  \\\n",
       "0  Daily discussion about anything Lakers related...   \n",
       "1                                  Whatever it takes   \n",
       "2                                       Two GOATs 🐐🐐   \n",
       "3                                          Our Boys!   \n",
       "4    [Moreno] DeMarcus Cousins: \"My quad is 100% ...   \n",
       "\n",
       "                                           snow_text  \\\n",
       "0  [daili, discuss, about, anyth, laker, relat, o...   \n",
       "1                                 [whatev, it, take]   \n",
       "2                                        [two, goat]   \n",
       "3                                         [our, boy]   \n",
       "4  [moreno, demarcus, cousin, my, quad, is, 100, ...   \n",
       "\n",
       "                                               texty  \\\n",
       "0  [daili discuss about anyth laker relat off top...   \n",
       "1                                   [whatev it take]   \n",
       "2                                         [two goat]   \n",
       "3                                          [our boy]   \n",
       "4  [moreno demarcus cousin my quad is 100 heal my...   \n",
       "\n",
       "                                              string  \n",
       "0  ['daili discuss about anyth laker relat off to...  \n",
       "1                                 ['whatev it take']  \n",
       "2                                       ['two goat']  \n",
       "3                                        ['our boy']  \n",
       "4  ['moreno demarcus cousin my quad is 100 heal m...  "
      ]
     },
     "execution_count": 194,
     "metadata": {},
     "output_type": "execute_result"
    }
   ],
   "source": [
    "LA_df.head()"
   ]
  },
  {
   "cell_type": "markdown",
   "metadata": {},
   "source": [
    "### Remove square brackets and apostrophe"
   ]
  },
  {
   "cell_type": "code",
   "execution_count": 196,
   "metadata": {},
   "outputs": [],
   "source": [
    "LA_df['stringOG'] = [i.replace('[', '').replace(']', '').replace(\"'\", '') for i in LA_df['string']]"
   ]
  },
  {
   "cell_type": "code",
   "execution_count": 197,
   "metadata": {},
   "outputs": [
    {
     "data": {
      "text/html": [
       "<div>\n",
       "<style scoped>\n",
       "    .dataframe tbody tr th:only-of-type {\n",
       "        vertical-align: middle;\n",
       "    }\n",
       "\n",
       "    .dataframe tbody tr th {\n",
       "        vertical-align: top;\n",
       "    }\n",
       "\n",
       "    .dataframe thead th {\n",
       "        text-align: right;\n",
       "    }\n",
       "</style>\n",
       "<table border=\"1\" class=\"dataframe\">\n",
       "  <thead>\n",
       "    <tr style=\"text-align: right;\">\n",
       "      <th></th>\n",
       "      <th>author</th>\n",
       "      <th>num_comments</th>\n",
       "      <th>score</th>\n",
       "      <th>selftext</th>\n",
       "      <th>subreddit</th>\n",
       "      <th>title</th>\n",
       "      <th>selftext_title</th>\n",
       "      <th>text</th>\n",
       "      <th>snow_text</th>\n",
       "      <th>texty</th>\n",
       "      <th>string</th>\n",
       "      <th>stringOG</th>\n",
       "    </tr>\n",
       "  </thead>\n",
       "  <tbody>\n",
       "    <tr>\n",
       "      <th>0</th>\n",
       "      <td>AutoModerator</td>\n",
       "      <td>33</td>\n",
       "      <td>10</td>\n",
       "      <td>Daily discussion about anything Lakers related...</td>\n",
       "      <td>lakers</td>\n",
       "      <td>Daily Lakers Discussion Thread - July 11</td>\n",
       "      <td>Daily discussion about anything Lakers related...</td>\n",
       "      <td>Daily discussion about anything Lakers related...</td>\n",
       "      <td>[daili, discuss, about, anyth, laker, relat, o...</td>\n",
       "      <td>[daili discuss about anyth laker relat off top...</td>\n",
       "      <td>['daili discuss about anyth laker relat off to...</td>\n",
       "      <td>daili discuss about anyth laker relat off topi...</td>\n",
       "    </tr>\n",
       "    <tr>\n",
       "      <th>1</th>\n",
       "      <td>rickat99</td>\n",
       "      <td>63</td>\n",
       "      <td>877</td>\n",
       "      <td></td>\n",
       "      <td>lakers</td>\n",
       "      <td>Whatever it takes</td>\n",
       "      <td>Whatever it takes</td>\n",
       "      <td>Whatever it takes</td>\n",
       "      <td>[whatev, it, take]</td>\n",
       "      <td>[whatev it take]</td>\n",
       "      <td>['whatev it take']</td>\n",
       "      <td>whatev it take</td>\n",
       "    </tr>\n",
       "    <tr>\n",
       "      <th>2</th>\n",
       "      <td>djmcc28</td>\n",
       "      <td>42</td>\n",
       "      <td>237</td>\n",
       "      <td></td>\n",
       "      <td>lakers</td>\n",
       "      <td>Two GOATs 🐐🐐</td>\n",
       "      <td>Two GOATs 🐐🐐</td>\n",
       "      <td>Two GOATs 🐐🐐</td>\n",
       "      <td>[two, goat]</td>\n",
       "      <td>[two goat]</td>\n",
       "      <td>['two goat']</td>\n",
       "      <td>two goat</td>\n",
       "    </tr>\n",
       "    <tr>\n",
       "      <th>3</th>\n",
       "      <td>Masicka636</td>\n",
       "      <td>17</td>\n",
       "      <td>154</td>\n",
       "      <td></td>\n",
       "      <td>lakers</td>\n",
       "      <td>Our Boys!</td>\n",
       "      <td>Our Boys!</td>\n",
       "      <td>Our Boys!</td>\n",
       "      <td>[our, boy]</td>\n",
       "      <td>[our boy]</td>\n",
       "      <td>['our boy']</td>\n",
       "      <td>our boy</td>\n",
       "    </tr>\n",
       "    <tr>\n",
       "      <th>4</th>\n",
       "      <td>daftmunt</td>\n",
       "      <td>250</td>\n",
       "      <td>2270</td>\n",
       "      <td></td>\n",
       "      <td>lakers</td>\n",
       "      <td>[Moreno] DeMarcus Cousins: \"My quad is 100% he...</td>\n",
       "      <td>[Moreno] DeMarcus Cousins: \"My quad is 100% ...</td>\n",
       "      <td>[Moreno] DeMarcus Cousins: \"My quad is 100% ...</td>\n",
       "      <td>[moreno, demarcus, cousin, my, quad, is, 100, ...</td>\n",
       "      <td>[moreno demarcus cousin my quad is 100 heal my...</td>\n",
       "      <td>['moreno demarcus cousin my quad is 100 heal m...</td>\n",
       "      <td>moreno demarcus cousin my quad is 100 heal my ...</td>\n",
       "    </tr>\n",
       "  </tbody>\n",
       "</table>\n",
       "</div>"
      ],
      "text/plain": [
       "          author  num_comments  score  \\\n",
       "0  AutoModerator            33     10   \n",
       "1       rickat99            63    877   \n",
       "2        djmcc28            42    237   \n",
       "3     Masicka636            17    154   \n",
       "4       daftmunt           250   2270   \n",
       "\n",
       "                                            selftext subreddit  \\\n",
       "0  Daily discussion about anything Lakers related...    lakers   \n",
       "1                                                       lakers   \n",
       "2                                                       lakers   \n",
       "3                                                       lakers   \n",
       "4                                                       lakers   \n",
       "\n",
       "                                               title  \\\n",
       "0           Daily Lakers Discussion Thread - July 11   \n",
       "1                                  Whatever it takes   \n",
       "2                                       Two GOATs 🐐🐐   \n",
       "3                                          Our Boys!   \n",
       "4  [Moreno] DeMarcus Cousins: \"My quad is 100% he...   \n",
       "\n",
       "                                      selftext_title  \\\n",
       "0  Daily discussion about anything Lakers related...   \n",
       "1                                  Whatever it takes   \n",
       "2                                       Two GOATs 🐐🐐   \n",
       "3                                          Our Boys!   \n",
       "4    [Moreno] DeMarcus Cousins: \"My quad is 100% ...   \n",
       "\n",
       "                                                text  \\\n",
       "0  Daily discussion about anything Lakers related...   \n",
       "1                                  Whatever it takes   \n",
       "2                                       Two GOATs 🐐🐐   \n",
       "3                                          Our Boys!   \n",
       "4    [Moreno] DeMarcus Cousins: \"My quad is 100% ...   \n",
       "\n",
       "                                           snow_text  \\\n",
       "0  [daili, discuss, about, anyth, laker, relat, o...   \n",
       "1                                 [whatev, it, take]   \n",
       "2                                        [two, goat]   \n",
       "3                                         [our, boy]   \n",
       "4  [moreno, demarcus, cousin, my, quad, is, 100, ...   \n",
       "\n",
       "                                               texty  \\\n",
       "0  [daili discuss about anyth laker relat off top...   \n",
       "1                                   [whatev it take]   \n",
       "2                                         [two goat]   \n",
       "3                                          [our boy]   \n",
       "4  [moreno demarcus cousin my quad is 100 heal my...   \n",
       "\n",
       "                                              string  \\\n",
       "0  ['daili discuss about anyth laker relat off to...   \n",
       "1                                 ['whatev it take']   \n",
       "2                                       ['two goat']   \n",
       "3                                        ['our boy']   \n",
       "4  ['moreno demarcus cousin my quad is 100 heal m...   \n",
       "\n",
       "                                            stringOG  \n",
       "0  daili discuss about anyth laker relat off topi...  \n",
       "1                                     whatev it take  \n",
       "2                                           two goat  \n",
       "3                                            our boy  \n",
       "4  moreno demarcus cousin my quad is 100 heal my ...  "
      ]
     },
     "execution_count": 197,
     "metadata": {},
     "output_type": "execute_result"
    }
   ],
   "source": [
    "LA_df.head()"
   ]
  },
  {
   "cell_type": "code",
   "execution_count": 198,
   "metadata": {},
   "outputs": [],
   "source": [
    "LA_df.to_csv('LA_df.csv', index=False)"
   ]
  },
  {
   "cell_type": "code",
   "execution_count": null,
   "metadata": {},
   "outputs": [],
   "source": []
  }
 ],
 "metadata": {
  "kernelspec": {
   "display_name": "Python 3",
   "language": "python",
   "name": "python3"
  },
  "language_info": {
   "codemirror_mode": {
    "name": "ipython",
    "version": 3
   },
   "file_extension": ".py",
   "mimetype": "text/x-python",
   "name": "python",
   "nbconvert_exporter": "python",
   "pygments_lexer": "ipython3",
   "version": "3.6.8"
  }
 },
 "nbformat": 4,
 "nbformat_minor": 2
}
